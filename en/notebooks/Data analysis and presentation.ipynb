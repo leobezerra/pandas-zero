{
  "nbformat": 4,
  "nbformat_minor": 0,
  "metadata": {
    "colab": {
      "name": "Visualizacao.ipynb",
      "provenance": [],
      "collapsed_sections": [],
      "include_colab_link": true
    },
    "kernelspec": {
      "display_name": "Python 3",
      "language": "python",
      "name": "python3"
    },
    "language_info": {
      "codemirror_mode": {
        "name": "ipython",
        "version": 3
      },
      "file_extension": ".py",
      "mimetype": "text/x-python",
      "name": "python",
      "nbconvert_exporter": "python",
      "pygments_lexer": "ipython3",
      "version": "3.6.8"
    }
  },
  "cells": [
    {
      "cell_type": "markdown",
      "metadata": {
        "id": "view-in-github",
        "colab_type": "text"
      },
      "source": [
        "<a href=\"https://colab.research.google.com/github/eBetcel/Data-analysis-and-presentation-minicourse/blob/master/Visualizacao.ipynb\" target=\"_parent\"><img src=\"https://colab.research.google.com/assets/colab-badge.svg\" alt=\"Open In Colab\"/></a>"
      ]
    },
    {
      "cell_type": "markdown",
      "metadata": {
        "id": "OUWprNFrL4dp",
        "colab_type": "text"
      },
      "source": [
        "# Data analysis and presentation"
      ]
    },
    {
      "cell_type": "markdown",
      "metadata": {
        "id": "Y0Fgl4oFL4dy",
        "colab_type": "text"
      },
      "source": [
        "## Preparation before analysis"
      ]
    },
    {
      "cell_type": "markdown",
      "metadata": {
        "id": "IHpX-aUaL4d1",
        "colab_type": "text"
      },
      "source": [
        "Everytime you want to explore and extract information from a dataset, first you need to understand what kind of information it's possible obtain with the available data. In general, data is classified as: \n",
        "\n",
        "**Numerical:** Also known as quantitative data, are datasets that represents counts or measures, like age, height or weight. Is possible with this type of data do statistical analysis and determine mean, median, standart deviation, etc. This data are also divided into two groups: \n",
        "\n",
        "*   **Discrete:** Represented by integer numbers (ex: Age).\n",
        "\n",
        "*   **Continuous:** Can assume any real value (ex: Weight, height).\n",
        "\n",
        "\n",
        "\n",
        "\n",
        "**Categorical:** Also known as qualitaties, are the datasets that has non-numerical caracteristcs:\n",
        "\n",
        "\n",
        "*   **Ordinal:** Has an ordinal scale or a ranking: (ex: Age range, stage of a disease, dates).\n",
        "*   **Nominais:** Are basically defined by names, with no specif order (ex: Blood type, race, sex, yes/no)."
      ]
    },
    {
      "cell_type": "markdown",
      "metadata": {
        "id": "2leZMAVKL4d8",
        "colab_type": "text"
      },
      "source": [
        "### Invalid or missing data"
      ]
    },
    {
      "cell_type": "markdown",
      "metadata": {
        "id": "gO_qHTn0L4eB",
        "colab_type": "text"
      },
      "source": [
        "Everytime a dataset is collected and sent to analysis, a number of activities must to be done before is possible to extract any relevat and reliable information. In the previous topics, we've seen how to initialize the data exploration with Pandas. However, after obtaining our dataframe, it's needed to check the integrity of our data and clean them before we can do any analysis. According to [IBM Data Analytics](https://www.ibm.com/cloud/blog/ibm-data-catalog-data-scientists-productivity), 80% of the time of a data analysis is spended in data cleaning.\n",
        "\n",
        "Data treatment is an important stage in data cleaning (if some data can't be used in the analysis, it's missing). We're going to use a small [dataset](https://raw.githubusercontent.com/dataoptimal/posts/master/data%20cleaning%20with%20python%20and%20pandas/property%20data.csv), while big enought to understand how to deal with missing data.\n",
        "\n",
        "Run the cells below to import the example data."
      ]
    },
    {
      "cell_type": "code",
      "metadata": {
        "id": "c_y0lkgdL4eE",
        "colab_type": "code",
        "colab": {}
      },
      "source": [
        "import pandas as pd"
      ],
      "execution_count": 0,
      "outputs": []
    },
    {
      "cell_type": "code",
      "metadata": {
        "id": "rdGUX6EdL4eT",
        "colab_type": "code",
        "colab": {}
      },
      "source": [
        "missing_data = pd.read_csv('https://raw.githubusercontent.com/dataoptimal/posts/master/data%20cleaning%20with%20python%20and%20pandas/property%20data.csv',sep=',')\n",
        "missing_data"
      ],
      "execution_count": 0,
      "outputs": []
    },
    {
      "cell_type": "markdown",
      "metadata": {
        "id": "eF60BY6qL4ee",
        "colab_type": "text"
      },
      "source": [
        "It is possible to notice the invalid data in the dataframe above. Pandas can detect some invalid or missing values. For this data, it uses the label 'NaN'.\n",
        "'isnull()' is a specific method to identify missing value in a serie."
      ]
    },
    {
      "cell_type": "code",
      "metadata": {
        "id": "jdwJOwPQL4eh",
        "colab_type": "code",
        "colab": {}
      },
      "source": [
        "missing_data['NUM_BATH'].isnull()"
      ],
      "execution_count": 0,
      "outputs": []
    },
    {
      "cell_type": "markdown",
      "metadata": {
        "id": "_T7-KkV2L4es",
        "colab_type": "text"
      },
      "source": [
        "Perceba que o método `isnull()` retorna `True` sempre que existe um valor faltando no campo avaliado.\n",
        "\n",
        "Para um conjunto de dados muito grande, é impraticável aplicar a função `isnull()` manualmente a cada característica. Para avaliar a quantidade de valores faltando em todas as características, basta combinar o método `sum()` com o resultado do método `isnull()` aplicado a todo o conjunto de dados."
      ]
    },
    {
      "cell_type": "code",
      "metadata": {
        "id": "n-d43AbeL4ev",
        "colab_type": "code",
        "colab": {}
      },
      "source": [
        "dados_faltando.isnull().sum()"
      ],
      "execution_count": 0,
      "outputs": []
    },
    {
      "cell_type": "markdown",
      "metadata": {
        "id": "QU4VnSmFL4e2",
        "colab_type": "text"
      },
      "source": [
        "Nem sempre o Pandas será capaz de identificar um dado inválido. No nosso exemplo, existe um dado inválido `'na'` na série que representa a característica `NUM_BEDROOMS` e outro valor inválido `'--'` na série que representa a característica `SQ_FT`. \n",
        "\n",
        "Nesses casos, podemos usar os métodos `unique()` ou `value_counts()` para ver os valores existentes em uma série:"
      ]
    },
    {
      "cell_type": "code",
      "metadata": {
        "id": "pkQ0LORTL4e4",
        "colab_type": "code",
        "colab": {}
      },
      "source": [
        "dados_faltando[\"NUM_BEDROOMS\"].unique()"
      ],
      "execution_count": 0,
      "outputs": []
    },
    {
      "cell_type": "code",
      "metadata": {
        "id": "OWfWmwAsL4fC",
        "colab_type": "code",
        "colab": {}
      },
      "source": [
        "dados_faltando[\"SQ_FT\"].value_counts()"
      ],
      "execution_count": 0,
      "outputs": []
    },
    {
      "cell_type": "markdown",
      "metadata": {
        "id": "LzghO0QIL4fH",
        "colab_type": "text"
      },
      "source": [
        "Outro caso de dados inválidos ocorre quando um dado de tipo diferente do esperado para uma dada característica é encontrado. A coluna `OWN_OCCUPIED` deveria conter somente valores no formato `Y` ou `N`. Contudo, em uma das linhas é encontrado o valor `12`, que não tem relação com os valores esperados.\n",
        "\n",
        "Nesse caso, podemos usar os métodos `isin` e `all` para ver se todos os valores de uma série respeitam o **domínio** de valores previsto para aquela série.\n",
        "\n",
        "* O método `isin` avalia se um dado nominal está presente em uma lista de opções, convertendo a série original em uma séries de valores `True` (caso esteja) ou `False` (caso contrário).\n",
        "* O método `all` avalia se todos os valores na série transformada são iguais a `True`."
      ]
    },
    {
      "cell_type": "code",
      "metadata": {
        "id": "3jg9PVneL4fK",
        "colab_type": "code",
        "colab": {}
      },
      "source": [
        "condição_domínio = dados_faltando[\"OWN_OCCUPIED\"].isin([\"Y\",\"N\"])\n",
        "all(condição_domínio)"
      ],
      "execution_count": 0,
      "outputs": []
    },
    {
      "cell_type": "markdown",
      "metadata": {
        "id": "zIC4XZ5bPNGS",
        "colab_type": "text"
      },
      "source": [
        "Para identificar quais dados da série `\"OWN_OCCUPIED\"` ferem a condição informada, invertemos a condição de busca usando o operador `~` (lemos como NÃO):"
      ]
    },
    {
      "cell_type": "code",
      "metadata": {
        "id": "aJHXm9bVL4fT",
        "colab_type": "code",
        "colab": {}
      },
      "source": [
        "dados_faltando[~condição_domínio]"
      ],
      "execution_count": 0,
      "outputs": []
    },
    {
      "cell_type": "markdown",
      "metadata": {
        "id": "2qNSg1qIL4fY",
        "colab_type": "text"
      },
      "source": [
        "## Começando a análise"
      ]
    },
    {
      "cell_type": "markdown",
      "metadata": {
        "id": "qP9JFgyKL4fa",
        "colab_type": "text"
      },
      "source": [
        "Os dados para esta parte do tutorial serão carregados a partir de uma URL. \n",
        "\n",
        "Vamos deixar que o Pandas baixe diretamente o dataset, informando apenas a URL onde ele está localizado."
      ]
    },
    {
      "cell_type": "code",
      "metadata": {
        "colab_type": "code",
        "id": "IvRWAQofrpLA",
        "colab": {}
      },
      "source": [
        "dados_url = 'http://bit.ly/2cLzoxH'\n",
        "dados = pd.read_csv(dados_url)\n",
        "dados.head(n=10)"
      ],
      "execution_count": 0,
      "outputs": []
    },
    {
      "cell_type": "markdown",
      "metadata": {
        "id": "YPRXqHsVL4fh",
        "colab_type": "text"
      },
      "source": [
        "Uma vez concluída a limpeza dos dados, o primeiro conjunto de ferramentas que podemos usar para analisá-los é a das **estatísticas descritivas**. \n",
        "\n",
        "O Pandas oferece as principais medidas **centrais** e de **dispersão**, que podemos ser aplicadas a qualquer série de dados numéricos."
      ]
    },
    {
      "cell_type": "markdown",
      "metadata": {
        "id": "uwgOpZdLL4fj",
        "colab_type": "text"
      },
      "source": [
        "### Medidas centrais"
      ]
    },
    {
      "cell_type": "markdown",
      "metadata": {
        "id": "CNGpvCHgL4fl",
        "colab_type": "text"
      },
      "source": [
        "**Média**: A soma de todas as medições divididas pelo número de observações no conjunto de dados."
      ]
    },
    {
      "cell_type": "code",
      "metadata": {
        "id": "VNZA059wL4fm",
        "colab_type": "code",
        "colab": {}
      },
      "source": [
        "dados.mean()"
      ],
      "execution_count": 0,
      "outputs": []
    },
    {
      "cell_type": "markdown",
      "metadata": {
        "id": "h0dlTWlOL4fr",
        "colab_type": "text"
      },
      "source": [
        "**Mediana**: Valor do meio que separa a metade maior da metade menor no conjunto de dados."
      ]
    },
    {
      "cell_type": "code",
      "metadata": {
        "id": "l6BTNx0hL4fs",
        "colab_type": "code",
        "colab": {}
      },
      "source": [
        "dados[\"year\"].median()"
      ],
      "execution_count": 0,
      "outputs": []
    },
    {
      "cell_type": "markdown",
      "metadata": {
        "id": "eekJ8I1UL4fx",
        "colab_type": "text"
      },
      "source": [
        "**Moda**: O(s) valor(es) que aparece(m) com mais frequência no conjunto de dados."
      ]
    },
    {
      "cell_type": "code",
      "metadata": {
        "id": "GS-E95i1L4fz",
        "colab_type": "code",
        "colab": {}
      },
      "source": [
        "dados[\"year\"].mode()"
      ],
      "execution_count": 0,
      "outputs": []
    },
    {
      "cell_type": "markdown",
      "metadata": {
        "id": "eFAtr7ULL4f4",
        "colab_type": "text"
      },
      "source": [
        "### Medidas de dispersão"
      ]
    },
    {
      "cell_type": "markdown",
      "metadata": {
        "id": "Us_pPKC4L4f5",
        "colab_type": "text"
      },
      "source": [
        "**Variância**: Indica o espalhamento dos valores de uma série. \n",
        "\n",
        "É calculada como a distância média de cada valor de uma série para a média da série. Para que distâncias positivas e negativas não se anulem, cada distância é elevada ao quadrado durante a soma. Por esse motivo, a ordem de grandeza da variância não casa com a ordem de grandeza dos dados da série.\n",
        "\n",
        "Uma baixa variância indica que os valores da série tendem a estar próximos da média. Uma alta variância indica que os valores da série estão dispersos."
      ]
    },
    {
      "cell_type": "code",
      "metadata": {
        "id": "SQXQWRiJL4f7",
        "colab_type": "code",
        "colab": {}
      },
      "source": [
        "dados[\"year\"].var()"
      ],
      "execution_count": 0,
      "outputs": []
    },
    {
      "cell_type": "markdown",
      "metadata": {
        "id": "cr48uJXwL4gB",
        "colab_type": "text"
      },
      "source": [
        "**Desvio Padrão**: Raiz quadrada da variância. Mantém todas as suas propriedades, mas apresenta a mesma ordem de grandeza dos dados da série: "
      ]
    },
    {
      "cell_type": "code",
      "metadata": {
        "scrolled": true,
        "id": "i38lCnbZL4gC",
        "colab_type": "code",
        "colab": {}
      },
      "source": [
        "dados[\"year\"].std()"
      ],
      "execution_count": 0,
      "outputs": []
    },
    {
      "cell_type": "markdown",
      "metadata": {
        "id": "12tsWb4bL4gH",
        "colab_type": "text"
      },
      "source": [
        "**Quantis**: Particionam os valores ordenados de uma série. Um quantil de 25% indica que 25% dos valores da série são inferiores àquele quantil. Por convenção, ***quartis*** são os quantis de 25%, 50% e 75%, também conhecidos como primeiro, segundo e terceiro quartis:\n"
      ]
    },
    {
      "cell_type": "code",
      "metadata": {
        "id": "jb4SSYvdL4gK",
        "colab_type": "code",
        "colab": {}
      },
      "source": [
        "dados[\"year\"].quantile(0.25)"
      ],
      "execution_count": 0,
      "outputs": []
    },
    {
      "cell_type": "code",
      "metadata": {
        "id": "N0A_xffYL4gQ",
        "colab_type": "code",
        "colab": {}
      },
      "source": [
        "primeiro_quartil = dados.query(f\"year < {dados['year'].quantile(0.25)}\")\n",
        "primeiro_quartil.shape"
      ],
      "execution_count": 0,
      "outputs": []
    },
    {
      "cell_type": "code",
      "metadata": {
        "scrolled": true,
        "id": "TNF9SjNIL4gW",
        "colab_type": "code",
        "colab": {}
      },
      "source": [
        "dados.shape"
      ],
      "execution_count": 0,
      "outputs": []
    },
    {
      "cell_type": "markdown",
      "metadata": {
        "id": "J5n8HvrYL4gc",
        "colab_type": "text"
      },
      "source": [
        "### Outros métodos de estatística descritiva"
      ]
    },
    {
      "cell_type": "markdown",
      "metadata": {
        "id": "PB4whhc4L4gd",
        "colab_type": "text"
      },
      "source": [
        "* `describe()`: presente nos objetos `DataFrame` e `Series`, reúne várias medidas descritivas sobre os dados, incluindo os métodos `count()`, `min()` e `max()`:"
      ]
    },
    {
      "cell_type": "code",
      "metadata": {
        "id": "nu-NRWZrL4gf",
        "colab_type": "code",
        "colab": {}
      },
      "source": [
        "dados[\"year\"].describe()"
      ],
      "execution_count": 0,
      "outputs": []
    },
    {
      "cell_type": "code",
      "metadata": {
        "id": "weIrWGPeL4gj",
        "colab_type": "code",
        "colab": {}
      },
      "source": [
        "dados.describe()"
      ],
      "execution_count": 0,
      "outputs": []
    },
    {
      "cell_type": "markdown",
      "metadata": {
        "id": "G8D8V-sVL4go",
        "colab_type": "text"
      },
      "source": [
        "* `nunique()`: informa a quantidade de valores distintos."
      ]
    },
    {
      "cell_type": "code",
      "metadata": {
        "id": "KHQAU6xOL4gp",
        "colab_type": "code",
        "colab": {}
      },
      "source": [
        "dados.nunique()"
      ],
      "execution_count": 0,
      "outputs": []
    },
    {
      "cell_type": "code",
      "metadata": {
        "id": "fiYwdjY_L4gs",
        "colab_type": "code",
        "colab": {}
      },
      "source": [
        "dados[\"year\"].nunique()"
      ],
      "execution_count": 0,
      "outputs": []
    },
    {
      "cell_type": "markdown",
      "metadata": {
        "id": "gsxPrw_gL4gx",
        "colab_type": "text"
      },
      "source": [
        "* `sort_values()`: ordena os valores de um `DataFrame` ou `Series`, em ordem crescente ou decrescente. Ao usar o método `sort_values()` do `DataFrame`, podemos especificar múltiplas colunas para a ordenação. Nesse caso, empates na primeira coluna são resolvidos pela segunda coluna, e assim por diante."
      ]
    },
    {
      "cell_type": "code",
      "metadata": {
        "id": "f_osXt0cL4g0",
        "colab_type": "code",
        "colab": {}
      },
      "source": [
        "dados[\"year\"].sort_values().head()"
      ],
      "execution_count": 0,
      "outputs": []
    },
    {
      "cell_type": "code",
      "metadata": {
        "id": "iL7kQVvpL4g4",
        "colab_type": "code",
        "colab": {}
      },
      "source": [
        "dados.sort_values(by=['year','country'],ascending=False).head()"
      ],
      "execution_count": 0,
      "outputs": []
    },
    {
      "cell_type": "markdown",
      "metadata": {
        "id": "bwABO3JgL4g-",
        "colab_type": "text"
      },
      "source": [
        "## Apresentação dos dados"
      ]
    },
    {
      "cell_type": "markdown",
      "metadata": {
        "colab_type": "text",
        "id": "3ni0vgAIHiFI"
      },
      "source": [
        "A análise de medidas centrais e de dispersão do `DataFrame` costuma ser aprofundada pela visualização das séries de dados.\n",
        "\n",
        "Para começar vamos carregar as bibliotecas necessárias:\n",
        "- `matplotlib` é uma biblioteca que serve exclusivamente para criar gráficos; \n",
        "- `seaborn` é uma biblioteca feita para criar gráficos estatísticos em Python. É construída em cima do Matplotlib e é integrada às estruturas de dados do Pandas.\n",
        "\n",
        "Por convenção, carregamos apenas o módulo `pyplot` da biblioteca `matplotlib` e o chamamos de `plt`.\n",
        "\n",
        "No caso do `seaborn`, carregamos toda a biblioteca, a chamamos de `sns` e usamos seu método `set()` para colocar em vigor suas configurações iniciais. "
      ]
    },
    {
      "cell_type": "code",
      "metadata": {
        "colab_type": "code",
        "id": "Y_PDGogQn3QS",
        "colab": {}
      },
      "source": [
        "import matplotlib.pyplot as plt\n",
        "import seaborn as sns\n",
        "sns.set()"
      ],
      "execution_count": 0,
      "outputs": []
    },
    {
      "cell_type": "markdown",
      "metadata": {
        "colab_type": "text",
        "id": "kIbzhXQ000XQ"
      },
      "source": [
        "### Histogramas\n",
        "\n",
        "Com os comandos oferecidos pelo Pandas é fácil construir um histograma. Porém, é necessário entender exatamente o que se está construindo. \n",
        "\n",
        "No trecho abaixo dizemos que do conjunto `dados` vamos usar a coluna `lifeExp`, que mostra a expectativa de vida por ano.\n",
        "\n",
        "Com o método `hist(bins = 100)` teremos o histograma com 100 faixas diferentes de valores. "
      ]
    },
    {
      "cell_type": "code",
      "metadata": {
        "colab_type": "code",
        "id": "NwLUT8xptz_9",
        "colab": {}
      },
      "source": [
        "dados['lifeExp'].hist(bins=100)"
      ],
      "execution_count": 0,
      "outputs": []
    },
    {
      "cell_type": "markdown",
      "metadata": {
        "colab_type": "text",
        "id": "JKLxZZdx4sLT"
      },
      "source": [
        "Abaixo podemos ver o efeito (extremo) de se construir um histograma com poucos intervalos de valores (apenas dois, neste caso)."
      ]
    },
    {
      "cell_type": "code",
      "metadata": {
        "colab_type": "code",
        "id": "ooQ_pCJKuMX-",
        "colab": {}
      },
      "source": [
        "dados['lifeExp'].hist(bins=2)"
      ],
      "execution_count": 0,
      "outputs": []
    },
    {
      "cell_type": "markdown",
      "metadata": {
        "colab_type": "text",
        "id": "lyarbic35AgQ"
      },
      "source": [
        "O caso abaixo é exatamente o inverso do que foi mostrado acima: muitas faixas de valores (1000 no gráfico abaixo) torna a compreensão muito difícil."
      ]
    },
    {
      "cell_type": "code",
      "metadata": {
        "colab_type": "code",
        "id": "Aj6a95vvu4Ie",
        "colab": {}
      },
      "source": [
        "dados['lifeExp'].hist(bins=1000)"
      ],
      "execution_count": 0,
      "outputs": []
    },
    {
      "cell_type": "markdown",
      "metadata": {
        "colab_type": "text",
        "id": "AqnPTNI0P7vL"
      },
      "source": [
        "O histograma padrão do Pandas é básico e serve apenas para uma olhada rápida na distribuição dos dados, mas não conta a história toda. \n",
        "\n",
        "Além de não haver nomes nos eixos X e Y, há uma região do eixo X sendo apresentada mesmo que não haja dados nela.\n",
        "\n",
        "Podemos resolver isso configurando o histograma através dos seguintes parâmetros:\n",
        " - `xlabelsize` e `ylabelsize` ditam o tamanho da fonte nos eixos;\n",
        " - `xlabel `e `ylabel` são os métodos que alteram o título do eixo e o tamanho desse texto;\n",
        " - `xlim` também é um método e determina os limites inferior e superior do eixo horizontal.\n",
        "\n",
        "A seguir podemos ver como customizar as informações que aparecem no histograma."
      ]
    },
    {
      "cell_type": "code",
      "metadata": {
        "colab_type": "code",
        "id": "7AsoMmeHP_kh",
        "scrolled": false,
        "colab": {}
      },
      "source": [
        "dados['lifeExp'].hist(bins=100, grid=False, xlabelsize=12, ylabelsize=12)\n",
        "plt.xlabel(\"Expectativa de vida\", fontsize=15)\n",
        "plt.ylabel(\"Frequência\",fontsize=15)\n",
        "plt.title(\"Distribuição das expectativas de vida\", fontsize=17)\n",
        "plt.xlim([22.0,90.0])"
      ],
      "execution_count": 0,
      "outputs": []
    },
    {
      "cell_type": "markdown",
      "metadata": {
        "id": "20_-XPE6L4hd",
        "colab_type": "text"
      },
      "source": [
        "Apesar de ser conveniente usar o método `hist()` diretamente a partir de uma série, o método `distplot()` do `seaborn` é bem mais poderoso.\n",
        "\n",
        "Além de apresentar um histograma dos dados, o `distplot()` estima uma **distribuição de probabilidade** dos dados:"
      ]
    },
    {
      "cell_type": "code",
      "metadata": {
        "id": "A4bINUg3L4hf",
        "colab_type": "code",
        "colab": {}
      },
      "source": [
        "sns.distplot(dados[\"lifeExp\"])\n",
        "plt.xlabel(\"Expectativa de vida\", fontsize=15)\n",
        "plt.ylabel(\"Frequência\",fontsize=15)\n",
        "plt.title(\"Distribuição das expectativas de vida\", fontsize=17)"
      ],
      "execution_count": 0,
      "outputs": []
    },
    {
      "cell_type": "markdown",
      "metadata": {
        "id": "wXFm5_j7L4hj",
        "colab_type": "text"
      },
      "source": [
        "A distribuição de probabilidade estimada no gráfico acima é uma importante fonte de informação sobre os dados.\n",
        "\n",
        "Podemos compará-la com uma **distribuição normal** usando o método `norm` da biblioteca `scipy`:"
      ]
    },
    {
      "cell_type": "code",
      "metadata": {
        "id": "I45uq3q_L4hk",
        "colab_type": "code",
        "colab": {}
      },
      "source": [
        "from scipy.stats import norm"
      ],
      "execution_count": 0,
      "outputs": []
    },
    {
      "cell_type": "code",
      "metadata": {
        "id": "Mw-2NqWYL4hn",
        "colab_type": "code",
        "colab": {}
      },
      "source": [
        "sns.distplot(dados[\"lifeExp\"], fit=norm)\n",
        "plt.xlabel(\"Expectativa de vida\", fontsize=15)\n",
        "plt.ylabel(\"Frequência\",fontsize=15)\n",
        "plt.title(\"Distribuição das expectativas de vida\", fontsize=17)"
      ],
      "execution_count": 0,
      "outputs": []
    },
    {
      "cell_type": "markdown",
      "metadata": {
        "colab_type": "text",
        "id": "WvlxccQA7P4D"
      },
      "source": [
        "Nesse caso, vemos que a distruição real dos dados difere bastante da distribuição normal.\n",
        "\n",
        "De fato, ela se assemelha mais a uma **distribuição bimodal**, que costuma ocorrer quando os dados apresentam subconjuntos normalmente distribuídos.\n",
        "\n",
        "As duas células de código a seguir produzem gráficos usando a expectativa de vida no continente Africano e na Europa, respectivamente, mostrando de onde surge a distribuição bimodal do gráfico acima:"
      ]
    },
    {
      "cell_type": "code",
      "metadata": {
        "colab_type": "code",
        "id": "_9zMPpq-WZvk",
        "colab": {}
      },
      "source": [
        "dados_africa = dados.query(\"continent == 'Africa'\")\n",
        "dados_europa = dados.query(\"continent == 'Europe'\")\n",
        "\n",
        "sns.distplot(dados_europa[\"lifeExp\"], fit=norm)\n",
        "sns.distplot(dados_africa[\"lifeExp\"], fit=norm)\n",
        "plt.xlabel(\"Expectativa de vida\", fontsize=15)\n",
        "plt.ylabel(\"Frequência\",fontsize=15)\n",
        "plt.title(\"Distribuição das expectativas de vida nos continentes europeu e africano\", fontsize=17)"
      ],
      "execution_count": 0,
      "outputs": []
    },
    {
      "cell_type": "markdown",
      "metadata": {
        "id": "n3_J7ZCyL4hu",
        "colab_type": "text"
      },
      "source": [
        "Além de interessante do ponto de vista estatístico, o gráfico acima é socialmente impactante e preocupante, tamanha a diferença nas distribuições."
      ]
    },
    {
      "cell_type": "markdown",
      "metadata": {
        "id": "W6vqWvF3L4hv",
        "colab_type": "text"
      },
      "source": [
        "### Boxplots e violin plots"
      ]
    },
    {
      "cell_type": "markdown",
      "metadata": {
        "colab_type": "text",
        "id": "mJEBFTkHCsKS"
      },
      "source": [
        "Outros tipos de gráfico úteis para análise de distribuições são obtidos pelos métodos `boxplot()` e `violinplot()` do `seaborn`. \n",
        "\n",
        "**Boxplot**: apresenta os quartis de uma série, representados por uma caixa - as extremidades são o primeiro e terceiro quartil, enquanto a divisória dentro da caixa é o segundo quartil. \n",
        "\n",
        "Esse tipo de gráfico também é conhecido como caixas e bigodes (box-and-whiskers), porque os elementos mínimo e máximo são representados pelos \"bigodes\" da caixa. \n",
        "\n",
        "Uma particularidade desse gráfico é que os elementos mínimo e máximo são calculados em função da distância entre o primeiro e o terceiro quartil. Assim, valores da série que extrapolem esses valores extremos são considerados outliers e aparecem no boxplot como pontos."
      ]
    },
    {
      "cell_type": "code",
      "metadata": {
        "colab_type": "code",
        "id": "poJYkdLgDTnJ",
        "colab": {}
      },
      "source": [
        "sns.boxplot(x=\"lifeExp\", y=\"continent\", data=dados.sort_values(\"continent\"))\n",
        "plt.xlabel(\"Expectativa de vida\", fontsize=15)\n",
        "plt.ylabel(\"Continente\",fontsize=15)\n",
        "plt.title(\"Expectativa de vida por continente\", fontsize=17)"
      ],
      "execution_count": 0,
      "outputs": []
    },
    {
      "cell_type": "markdown",
      "metadata": {
        "colab_type": "text",
        "id": "zS8Nu9Bjn4Zd"
      },
      "source": [
        "Como podemos ver, a África é o continente com menor expectativa de vida em geral, enquanto a Ásia é o continente onde esse dado apresenta maior dispersão.\n",
        "\n",
        "Nos gráficos acima, é possível notar que existem muitos outliers.\n",
        "\n",
        "É interessante filtrar os dados e analisar a expectativa de vida por ano (por exemplo). \n",
        "\n",
        "O código abaixo produz um boxplot da expectativa de vida para o ano de 2007:"
      ]
    },
    {
      "cell_type": "code",
      "metadata": {
        "colab_type": "code",
        "id": "wnaTcyOjDZpQ",
        "colab": {}
      },
      "source": [
        "dados_2007 = dados.query(\"year == 2007\")\n",
        "sns.boxplot(x=\"lifeExp\", y=\"continent\", data=dados_2007.sort_values(\"continent\"))\n",
        "plt.xlabel(\"Expectativa de vida\", fontsize=15)\n",
        "plt.ylabel(\"Continente\",fontsize=15)\n",
        "plt.title(\"Expectativa de vida por continente (2007)\", fontsize=17)"
      ],
      "execution_count": 0,
      "outputs": []
    },
    {
      "cell_type": "markdown",
      "metadata": {
        "colab_type": "text",
        "id": "9dXYPSOKFofJ"
      },
      "source": [
        "Delimitando o ano da análise, vemos bem menos outliers.\n",
        "\n",
        "* **Violin plots**: combinam as informações presentes em um boxplot e em gráficos de densidade. Apesar de serem extremamente ricos em informação, são pouco difundidos na prática. "
      ]
    },
    {
      "cell_type": "code",
      "metadata": {
        "id": "UEuRQBBQL4h7",
        "colab_type": "code",
        "colab": {}
      },
      "source": [
        "plt.figure(figsize=(12,6))\n",
        "sns.violinplot(x=\"continent\", y=\"lifeExp\", data=dados_2007)\n",
        "plt.xlabel(\"Continente\", fontsize=15)\n",
        "plt.ylabel(\"Expectativa de vida\",fontsize=15)\n",
        "plt.title(\"Expectativa de vida por continente\", fontsize=17)"
      ],
      "execution_count": 0,
      "outputs": []
    },
    {
      "cell_type": "code",
      "metadata": {
        "id": "1fjTjtT3beQ-",
        "colab_type": "code",
        "colab": {}
      },
      "source": [
        ""
      ],
      "execution_count": 0,
      "outputs": []
    }
  ]
}